{
 "cells": [
  {
   "cell_type": "code",
   "execution_count": 60,
   "id": "2d0dd569",
   "metadata": {},
   "outputs": [],
   "source": [
    "class SimpleMath:\n",
    "     def divide(self, numerator, denominator):\n",
    "        if (denominator==0):\n",
    "            raise ZeroDivisionError(\"Cannot divide by 0\")\n",
    "        result=numerator/denominator\n",
    "        return result\n",
    "    def multiply(self, number1, number2)\n",
    "        return=number1*number2\n",
    "    \n",
    "        "
   ]
  },
  {
   "cell_type": "code",
   "execution_count": 62,
   "id": "a79a45f3",
   "metadata": {},
   "outputs": [],
   "source": [
    "import unittest    "
   ]
  },
  {
   "cell_type": "code",
   "execution_count": 63,
   "id": "80d579c3",
   "metadata": {
    "scrolled": false
   },
   "outputs": [
    {
     "name": "stderr",
     "output_type": "stream",
     "text": [
      "....\n",
      "----------------------------------------------------------------------\n",
      "Ran 4 tests in 0.006s\n",
      "\n",
      "OK\n"
     ]
    }
   ],
   "source": [
    "class SimpleMathTest(unittest.TestCase):\n",
    "    def testThatZeroNumeratorReturnsZero(self):\n",
    "        TestA=SimpleMath()\n",
    "        self.assertEqual(0,TestA.divide(0,7))\n",
    "    def testThatSmallerNumeratorReturnsDecimalValue(self):\n",
    "        TestB=SimpleMath()\n",
    "        self.assertEqual(0.25,TestB.divide(1,4))\n",
    "    def testThatSmallerNumeratorReturnsRepeatingDecimalValue(self):\n",
    "        TestC=SimpleMath()\n",
    "        self.assertAlmostEqual(0.143,TestC.divide(1,7),3)\n",
    "    def testThatZeroDenominatorThrowsException(self):\n",
    "        TestD=SimpleMath()\n",
    "        with self.assertRaises(ZeroDivisionError): TestD.divide(6,0)\n",
    "if __name__ == '__main__':\n",
    "    unittest.main(argv=['first-arg-is-ignored'], exit=False)\n",
    "\n",
    "\n",
    "       \n",
    "\n",
    "        "
   ]
  },
  {
   "cell_type": "code",
   "execution_count": null,
   "id": "d39c2e22",
   "metadata": {},
   "outputs": [],
   "source": []
  },
  {
   "cell_type": "code",
   "execution_count": null,
   "id": "64d7b277",
   "metadata": {},
   "outputs": [],
   "source": []
  }
 ],
 "metadata": {
  "kernelspec": {
   "display_name": "Python 3",
   "language": "python",
   "name": "python3"
  },
  "language_info": {
   "codemirror_mode": {
    "name": "ipython",
    "version": 3
   },
   "file_extension": ".py",
   "mimetype": "text/x-python",
   "name": "python",
   "nbconvert_exporter": "python",
   "pygments_lexer": "ipython3",
   "version": "3.8.8"
  }
 },
 "nbformat": 4,
 "nbformat_minor": 5
}
